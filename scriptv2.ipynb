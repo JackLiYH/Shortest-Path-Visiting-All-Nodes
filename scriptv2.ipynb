{
  "cells": [
    {
      "cell_type": "code",
      "execution_count": 6,
      "metadata": {
        "id": "bsyRreejm8sU",
        "outputId": "79866a80-17ac-479b-c9f6-1fa11ff4952a"
      },
      "outputs": [],
      "source": [
        "from collections import deque\n",
        "import sys\n",
        "\n",
        "def shortest_path_length(graph):\n",
        "    n = len(graph)\n",
        "    \n",
        "    # Step 1: BFS to find shortest paths between all pairs of nodes\n",
        "    dist = [[sys.maxsize] * n for _ in range(n)]\n",
        "    \n",
        "    for i in range(n):\n",
        "        dist[i][i] = 0\n",
        "        queue = deque([i])\n",
        "        \n",
        "        while queue:\n",
        "            node = queue.popleft()\n",
        "            for neighbor in graph[node]:\n",
        "                if dist[i][neighbor] == sys.maxsize:  # Not visited\n",
        "                    dist[i][neighbor] = dist[i][node] + 1\n",
        "                    queue.append(neighbor)\n",
        "    \n",
        "    # Step 2: Dynamic Programming with Bitmasking\n",
        "    dp = [[sys.maxsize] * n for _ in range(1 << n)]\n",
        "    \n",
        "    for i in range(n):\n",
        "        dp[1 << i][i] = 0  # Starting at each node\n",
        "    \n",
        "    for mask in range(1 << n):\n",
        "        for u in range(n):\n",
        "            if dp[mask][u] == sys.maxsize:\n",
        "                continue\n",
        "            for v in range(n):\n",
        "                if mask & (1 << v) == 0:  # v is not visited\n",
        "                    new_mask = mask | (1 << v)\n",
        "                    dp[new_mask][v] = min(dp[new_mask][v], dp[mask][u] + dist[u][v])\n",
        "    \n",
        "    # Step 3: Find the minimum path covering all nodes\n",
        "    final_mask = (1 << n) - 1\n",
        "    min_length = sys.maxsize\n",
        "    \n",
        "    for i in range(n):\n",
        "        min_length = min(min_length, dp[final_mask][i])\n",
        "    \n",
        "    return min_length\n"
      ]
    },
    {
      "cell_type": "code",
      "execution_count": 7,
      "metadata": {},
      "outputs": [
        {
          "name": "stdout",
          "output_type": "stream",
          "text": [
            "4\n",
            "4\n"
          ]
        }
      ],
      "source": [
        "# Example 1\n",
        "graph1 = [[1,2,3],[0],[0],[0]]\n",
        "print(shortest_path_length(graph1))  # Output: 4\n",
        "\n",
        "# Example 2\n",
        "graph2 = [[1],[0,2,4],[1,3,4],[2],[1,2]]\n",
        "print(shortest_path_length(graph2))  # Output: 4"
      ]
    }
  ],
  "metadata": {
    "colab": {
      "provenance": []
    },
    "kernelspec": {
      "display_name": "Python 3",
      "language": "python",
      "name": "python3"
    },
    "language_info": {
      "codemirror_mode": {
        "name": "ipython",
        "version": 3
      },
      "file_extension": ".py",
      "mimetype": "text/x-python",
      "name": "python",
      "nbconvert_exporter": "python",
      "pygments_lexer": "ipython3",
      "version": "3.12.5"
    }
  },
  "nbformat": 4,
  "nbformat_minor": 0
}
